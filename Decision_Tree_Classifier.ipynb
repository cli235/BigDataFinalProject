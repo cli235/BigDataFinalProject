{
  "nbformat": 4,
  "nbformat_minor": 0,
  "metadata": {
    "colab": {
      "provenance": []
    },
    "kernelspec": {
      "name": "python3",
      "display_name": "Python 3"
    },
    "language_info": {
      "name": "python"
    }
  },
  "cells": [
    {
      "cell_type": "code",
      "source": [
        "!pip install PySpark"
      ],
      "metadata": {
        "colab": {
          "base_uri": "https://localhost:8080/"
        },
        "id": "RO_Yc9sIr2r9",
        "outputId": "c01ff13b-4db8-4fac-9898-a72c2fd86d7c"
      },
      "execution_count": 1,
      "outputs": [
        {
          "output_type": "stream",
          "name": "stdout",
          "text": [
            "Looking in indexes: https://pypi.org/simple, https://us-python.pkg.dev/colab-wheels/public/simple/\n",
            "Collecting PySpark\n",
            "  Downloading pyspark-3.4.0.tar.gz (310.8 MB)\n",
            "\u001b[2K     \u001b[90m━━━━━━━━━━━━━━━━━━━━━━━━━━━━━━━━━━━━━━━\u001b[0m \u001b[32m310.8/310.8 MB\u001b[0m \u001b[31m3.7 MB/s\u001b[0m eta \u001b[36m0:00:00\u001b[0m\n",
            "\u001b[?25h  Preparing metadata (setup.py) ... \u001b[?25l\u001b[?25hdone\n",
            "Requirement already satisfied: py4j==0.10.9.7 in /usr/local/lib/python3.10/dist-packages (from PySpark) (0.10.9.7)\n",
            "Building wheels for collected packages: PySpark\n",
            "  Building wheel for PySpark (setup.py) ... \u001b[?25l\u001b[?25hdone\n",
            "  Created wheel for PySpark: filename=pyspark-3.4.0-py2.py3-none-any.whl size=311317145 sha256=52ba868ba65ea5b945d466da4a970fed838aa95e43035a96b1268de39592b7a8\n",
            "  Stored in directory: /root/.cache/pip/wheels/7b/1b/4b/3363a1d04368e7ff0d408e57ff57966fcdf00583774e761327\n",
            "Successfully built PySpark\n",
            "Installing collected packages: PySpark\n",
            "Successfully installed PySpark-3.4.0\n"
          ]
        }
      ]
    },
    {
      "cell_type": "code",
      "source": [
        "# Import necessary libraries\n",
        "from pyspark.sql.functions import *\n",
        "from pyspark.ml.feature import StringIndexer, OneHotEncoder, VectorAssembler\n",
        "from pyspark.ml.classification import DecisionTreeClassifier\n",
        "from pyspark.ml.evaluation import BinaryClassificationEvaluator\n",
        "import pyspark.sql.functions as F\n",
        "from pyspark.sql import SparkSession\n",
        "from pyspark.ml import Pipeline\n",
        "\n",
        "# create a spark session\n",
        "spark = SparkSession.builder.appName(\"Decision Tree Classification\").getOrCreate()\n",
        "\n",
        "# Load the data into a DataFrame\n",
        "train_data_load = spark.read.format(\"csv\").option(\"header\", \"false\").load(\"adult.data\")\n",
        "test_data_load= spark.read.format(\"csv\").option(\"header\", \"false\").load(\"adult.test\")\n",
        "\n",
        "# Add column names to the DataFrame\n",
        "columns = [\"age\", \"workclass\", \"fnlwgt\", \"education\", \"education_num\", \"marital_status\",\n",
        "           \"occupation\", \"relationship\", \"race\", \"sex\", \"capital_gain\", \"capital_loss\",\n",
        "           \"hours_per_week\", \"native_country\", \"income\"]\n",
        "train_data_df = train_data_load.toDF(*columns)\n",
        "test_data_df = test_data_load.toDF(*columns)\n",
        "\n",
        "# Remove leading and trailing whitespaces from the categorical columns\n",
        "categorical_columns = [\"workclass\", \"education\", \"marital_status\", \"occupation\",\n",
        "                       \"relationship\", \"race\", \"sex\", \"native_country\", \"income\"]\n",
        "for column in categorical_columns:\n",
        "    train_data = train_data_df.withColumn(column, trim(col(column)))\n",
        "    test_data = test_data_df.withColumn(column, trim(col(column)))\n"
      ],
      "metadata": {
        "id": "TqkI_J8Mu1sN"
      },
      "execution_count": 5,
      "outputs": []
    },
    {
      "cell_type": "code",
      "source": [
        "numerical_columns = [\"age\", \"fnlwgt\", \"education_num\", \"capital_gain\", \"capital_loss\", \"hours_per_week\"]\n",
        "for column in numerical_columns:\n",
        "    train_data = train_data.withColumn(column, train_data[column].cast(\"integer\"))\n",
        "    test_data = test_data.withColumn(column, test_data[column].cast(\"integer\"))\n",
        "\n",
        "train_data_df.show()"
      ],
      "metadata": {
        "colab": {
          "base_uri": "https://localhost:8080/"
        },
        "id": "8LSrfjLC1qqy",
        "outputId": "21d24861-acf5-43f9-b373-85da9c1325c3"
      },
      "execution_count": 6,
      "outputs": [
        {
          "output_type": "stream",
          "name": "stdout",
          "text": [
            "+---+-----------------+-------+-------------+-------------+--------------------+------------------+--------------+-------------------+-------+------------+------------+--------------+--------------+------+\n",
            "|age|        workclass| fnlwgt|    education|education_num|      marital_status|        occupation|  relationship|               race|    sex|capital_gain|capital_loss|hours_per_week|native_country|income|\n",
            "+---+-----------------+-------+-------------+-------------+--------------------+------------------+--------------+-------------------+-------+------------+------------+--------------+--------------+------+\n",
            "| 39|        State-gov|  77516|    Bachelors|           13|       Never-married|      Adm-clerical| Not-in-family|              White|   Male|        2174|           0|            40| United-States| <=50K|\n",
            "| 50| Self-emp-not-inc|  83311|    Bachelors|           13|  Married-civ-spouse|   Exec-managerial|       Husband|              White|   Male|           0|           0|            13| United-States| <=50K|\n",
            "| 38|          Private| 215646|      HS-grad|            9|            Divorced| Handlers-cleaners| Not-in-family|              White|   Male|           0|           0|            40| United-States| <=50K|\n",
            "| 53|          Private| 234721|         11th|            7|  Married-civ-spouse| Handlers-cleaners|       Husband|              Black|   Male|           0|           0|            40| United-States| <=50K|\n",
            "| 28|          Private| 338409|    Bachelors|           13|  Married-civ-spouse|    Prof-specialty|          Wife|              Black| Female|           0|           0|            40|          Cuba| <=50K|\n",
            "| 37|          Private| 284582|      Masters|           14|  Married-civ-spouse|   Exec-managerial|          Wife|              White| Female|           0|           0|            40| United-States| <=50K|\n",
            "| 49|          Private| 160187|          9th|            5| Married-spouse-a...|     Other-service| Not-in-family|              Black| Female|           0|           0|            16|       Jamaica| <=50K|\n",
            "| 52| Self-emp-not-inc| 209642|      HS-grad|            9|  Married-civ-spouse|   Exec-managerial|       Husband|              White|   Male|           0|           0|            45| United-States|  >50K|\n",
            "| 31|          Private|  45781|      Masters|           14|       Never-married|    Prof-specialty| Not-in-family|              White| Female|       14084|           0|            50| United-States|  >50K|\n",
            "| 42|          Private| 159449|    Bachelors|           13|  Married-civ-spouse|   Exec-managerial|       Husband|              White|   Male|        5178|           0|            40| United-States|  >50K|\n",
            "| 37|          Private| 280464| Some-college|           10|  Married-civ-spouse|   Exec-managerial|       Husband|              Black|   Male|           0|           0|            80| United-States|  >50K|\n",
            "| 30|        State-gov| 141297|    Bachelors|           13|  Married-civ-spouse|    Prof-specialty|       Husband| Asian-Pac-Islander|   Male|           0|           0|            40|         India|  >50K|\n",
            "| 23|          Private| 122272|    Bachelors|           13|       Never-married|      Adm-clerical|     Own-child|              White| Female|           0|           0|            30| United-States| <=50K|\n",
            "| 32|          Private| 205019|   Assoc-acdm|           12|       Never-married|             Sales| Not-in-family|              Black|   Male|           0|           0|            50| United-States| <=50K|\n",
            "| 40|          Private| 121772|    Assoc-voc|           11|  Married-civ-spouse|      Craft-repair|       Husband| Asian-Pac-Islander|   Male|           0|           0|            40|             ?|  >50K|\n",
            "| 34|          Private| 245487|      7th-8th|            4|  Married-civ-spouse|  Transport-moving|       Husband| Amer-Indian-Eskimo|   Male|           0|           0|            45|        Mexico| <=50K|\n",
            "| 25| Self-emp-not-inc| 176756|      HS-grad|            9|       Never-married|   Farming-fishing|     Own-child|              White|   Male|           0|           0|            35| United-States| <=50K|\n",
            "| 32|          Private| 186824|      HS-grad|            9|       Never-married| Machine-op-inspct|     Unmarried|              White|   Male|           0|           0|            40| United-States| <=50K|\n",
            "| 38|          Private|  28887|         11th|            7|  Married-civ-spouse|             Sales|       Husband|              White|   Male|           0|           0|            50| United-States| <=50K|\n",
            "| 43| Self-emp-not-inc| 292175|      Masters|           14|            Divorced|   Exec-managerial|     Unmarried|              White| Female|           0|           0|            45| United-States|  >50K|\n",
            "+---+-----------------+-------+-------------+-------------+--------------------+------------------+--------------+-------------------+-------+------------+------------+--------------+--------------+------+\n",
            "only showing top 20 rows\n",
            "\n"
          ]
        }
      ]
    },
    {
      "cell_type": "code",
      "source": [
        "test_data_df.show()"
      ],
      "metadata": {
        "colab": {
          "base_uri": "https://localhost:8080/"
        },
        "id": "I0-7rh-114_h",
        "outputId": "5fe4c757-de0f-4b09-c0d9-660ae56144f1"
      },
      "execution_count": 7,
      "outputs": [
        {
          "output_type": "stream",
          "name": "stdout",
          "text": [
            "+---+-----------------+-------+-------------+-------------+-------------------+------------------+--------------+-------------------+-------+------------+------------+--------------+--------------+-------+\n",
            "|age|        workclass| fnlwgt|    education|education_num|     marital_status|        occupation|  relationship|               race|    sex|capital_gain|capital_loss|hours_per_week|native_country| income|\n",
            "+---+-----------------+-------+-------------+-------------+-------------------+------------------+--------------+-------------------+-------+------------+------------+--------------+--------------+-------+\n",
            "| 25|          Private| 226802|         11th|            7|      Never-married| Machine-op-inspct|     Own-child|              Black|   Male|           0|           0|            40| United-States| <=50K.|\n",
            "| 38|          Private|  89814|      HS-grad|            9| Married-civ-spouse|   Farming-fishing|       Husband|              White|   Male|           0|           0|            50| United-States| <=50K.|\n",
            "| 28|        Local-gov| 336951|   Assoc-acdm|           12| Married-civ-spouse|   Protective-serv|       Husband|              White|   Male|           0|           0|            40| United-States|  >50K.|\n",
            "| 44|          Private| 160323| Some-college|           10| Married-civ-spouse| Machine-op-inspct|       Husband|              Black|   Male|        7688|           0|            40| United-States|  >50K.|\n",
            "| 18|                ?| 103497| Some-college|           10|      Never-married|                 ?|     Own-child|              White| Female|           0|           0|            30| United-States| <=50K.|\n",
            "| 34|          Private| 198693|         10th|            6|      Never-married|     Other-service| Not-in-family|              White|   Male|           0|           0|            30| United-States| <=50K.|\n",
            "| 29|                ?| 227026|      HS-grad|            9|      Never-married|                 ?|     Unmarried|              Black|   Male|           0|           0|            40| United-States| <=50K.|\n",
            "| 63| Self-emp-not-inc| 104626|  Prof-school|           15| Married-civ-spouse|    Prof-specialty|       Husband|              White|   Male|        3103|           0|            32| United-States|  >50K.|\n",
            "| 24|          Private| 369667| Some-college|           10|      Never-married|     Other-service|     Unmarried|              White| Female|           0|           0|            40| United-States| <=50K.|\n",
            "| 55|          Private| 104996|      7th-8th|            4| Married-civ-spouse|      Craft-repair|       Husband|              White|   Male|           0|           0|            10| United-States| <=50K.|\n",
            "| 65|          Private| 184454|      HS-grad|            9| Married-civ-spouse| Machine-op-inspct|       Husband|              White|   Male|        6418|           0|            40| United-States|  >50K.|\n",
            "| 36|      Federal-gov| 212465|    Bachelors|           13| Married-civ-spouse|      Adm-clerical|       Husband|              White|   Male|           0|           0|            40| United-States| <=50K.|\n",
            "| 26|          Private|  82091|      HS-grad|            9|      Never-married|      Adm-clerical| Not-in-family|              White| Female|           0|           0|            39| United-States| <=50K.|\n",
            "| 58|                ?| 299831|      HS-grad|            9| Married-civ-spouse|                 ?|       Husband|              White|   Male|           0|           0|            35| United-States| <=50K.|\n",
            "| 48|          Private| 279724|      HS-grad|            9| Married-civ-spouse| Machine-op-inspct|       Husband|              White|   Male|        3103|           0|            48| United-States|  >50K.|\n",
            "| 43|          Private| 346189|      Masters|           14| Married-civ-spouse|   Exec-managerial|       Husband|              White|   Male|           0|           0|            50| United-States|  >50K.|\n",
            "| 20|        State-gov| 444554| Some-college|           10|      Never-married|     Other-service|     Own-child|              White|   Male|           0|           0|            25| United-States| <=50K.|\n",
            "| 43|          Private| 128354|      HS-grad|            9| Married-civ-spouse|      Adm-clerical|          Wife|              White| Female|           0|           0|            30| United-States| <=50K.|\n",
            "| 37|          Private|  60548|      HS-grad|            9|            Widowed| Machine-op-inspct|     Unmarried|              White| Female|           0|           0|            20| United-States| <=50K.|\n",
            "| 40|          Private|  85019|    Doctorate|           16| Married-civ-spouse|    Prof-specialty|       Husband| Asian-Pac-Islander|   Male|           0|           0|            45|             ?|  >50K.|\n",
            "+---+-----------------+-------+-------------+-------------+-------------------+------------------+--------------+-------------------+-------+------------+------------+--------------+--------------+-------+\n",
            "only showing top 20 rows\n",
            "\n"
          ]
        }
      ]
    },
    {
      "cell_type": "code",
      "source": [
        "# Add a label column to the data using StringIndexer\n",
        "indexer = StringIndexer(inputCol=\"income\", outputCol=\"label\")\n",
        "train_data = indexer.fit(train_data).transform(train_data)\n",
        "test_data = indexer.fit(test_data).transform(test_data)\n",
        "\n",
        "# Vectorize the features\n",
        "categorical_features = [\"workclass\", \"education\", \"marital_status\", \"occupation\",\n",
        "                        \"relationship\", \"race\", \"sex\", \"native_country\"]\n",
        "numeric_features = [\"age\", \"fnlwgt\", \"education_num\", \"capital_gain\", \"capital_loss\", \"hours_per_week\"]\n",
        "assembler_inputs = [c + \"_encoded\" for c in categorical_features] + numeric_features\n",
        "assembler = VectorAssembler(inputCols=assembler_inputs, outputCol=\"features\")\n",
        "\n",
        "# Convert categorical columns to indices and one-hot encode them\n",
        "indexers = [StringIndexer(inputCol=c, outputCol=c + \"_index\") for c in categorical_features]\n",
        "encoders = [OneHotEncoder(inputCol=c + \"_index\", outputCol=c + \"_encoded\") for c in categorical_features]\n",
        "\n",
        "# Build the decision tree classifier model\n",
        "dt = DecisionTreeClassifier(featuresCol=\"features\", labelCol=\"label\")\n",
        "\n",
        "# Chain indexers, encoders, assembler and the model in a Pipeline\n",
        "pipeline = Pipeline(stages=indexers + encoders + [assembler, dt])\n",
        "\n",
        "# Fit the pipeline to the training data\n",
        "model = pipeline.fit(train_data)\n",
        "\n",
        "# Make predictions on the test data\n",
        "predictions = model.transform(test_data)\n",
        "\n",
        "# Evaluate the model\n",
        "evaluator = BinaryClassificationEvaluator(rawPredictionCol=\"rawPrediction\", labelCol=\"label\")\n",
        "accuracy = evaluator.evaluate(predictions)\n",
        "\n",
        "print(\"Decision Tree Classifier Model accuracy: \", accuracy)\n"
      ],
      "metadata": {
        "colab": {
          "base_uri": "https://localhost:8080/"
        },
        "id": "hvPfydF1aLOR",
        "outputId": "f0bf0868-c115-420e-fefb-6ae5219e2f6b"
      },
      "execution_count": 8,
      "outputs": [
        {
          "output_type": "stream",
          "name": "stdout",
          "text": [
            "Decision Tree Classifier Model accuracy:  0.5651777176836972\n"
          ]
        }
      ]
    }
  ]
}