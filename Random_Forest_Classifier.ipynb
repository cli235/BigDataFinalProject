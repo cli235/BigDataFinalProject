{
  "nbformat": 4,
  "nbformat_minor": 0,
  "metadata": {
    "colab": {
      "provenance": []
    },
    "kernelspec": {
      "name": "python3",
      "display_name": "Python 3"
    },
    "language_info": {
      "name": "python"
    }
  },
  "cells": [
    {
      "cell_type": "code",
      "source": [
        "!pip install PySpark"
      ],
      "metadata": {
        "colab": {
          "base_uri": "https://localhost:8080/"
        },
        "id": "RO_Yc9sIr2r9",
        "outputId": "4df00bf4-9f13-4547-f7af-7645c9711f73"
      },
      "execution_count": null,
      "outputs": [
        {
          "output_type": "stream",
          "name": "stdout",
          "text": [
            "Looking in indexes: https://pypi.org/simple, https://us-python.pkg.dev/colab-wheels/public/simple/\n",
            "Collecting PySpark\n",
            "  Downloading pyspark-3.4.0.tar.gz (310.8 MB)\n",
            "\u001b[2K     \u001b[90m━━━━━━━━━━━━━━━━━━━━━━━━━━━━━━━━━━━━━━━\u001b[0m \u001b[32m310.8/310.8 MB\u001b[0m \u001b[31m3.8 MB/s\u001b[0m eta \u001b[36m0:00:00\u001b[0m\n",
            "\u001b[?25h  Preparing metadata (setup.py) ... \u001b[?25l\u001b[?25hdone\n",
            "Requirement already satisfied: py4j==0.10.9.7 in /usr/local/lib/python3.10/dist-packages (from PySpark) (0.10.9.7)\n",
            "Building wheels for collected packages: PySpark\n",
            "  Building wheel for PySpark (setup.py) ... \u001b[?25l\u001b[?25hdone\n",
            "  Created wheel for PySpark: filename=pyspark-3.4.0-py2.py3-none-any.whl size=311317145 sha256=4f3959bdef328ec8d60f61d6fddef7305cfaf1cd8e91c19241e06008d092ba4d\n",
            "  Stored in directory: /root/.cache/pip/wheels/7b/1b/4b/3363a1d04368e7ff0d408e57ff57966fcdf00583774e761327\n",
            "Successfully built PySpark\n",
            "Installing collected packages: PySpark\n",
            "Successfully installed PySpark-3.4.0\n"
          ]
        }
      ]
    },
    {
      "cell_type": "code",
      "source": [
        "# Import necessary libraries\n",
        "from pyspark.sql.functions import *\n",
        "from pyspark.ml.feature import StringIndexer, OneHotEncoder, VectorAssembler\n",
        "from pyspark.ml.classification import RandomForestClassifier\n",
        "from pyspark.ml.evaluation import BinaryClassificationEvaluator\n",
        "import pyspark.sql.functions as F\n",
        "from pyspark.sql import SparkSession\n",
        "from pyspark.ml import Pipeline\n",
        "\n",
        "# create a spark session\n",
        "spark = SparkSession.builder.appName(\"Random Forest Classifier\").getOrCreate()\n",
        "\n",
        "# Load the data into a DataFrame\n",
        "train_data_load = spark.read.format(\"csv\").option(\"header\", \"false\").load(\"adult.data\")\n",
        "test_data_load= spark.read.format(\"csv\").option(\"header\", \"false\").load(\"adult.test\")\n",
        "\n",
        "# Add column names to the DataFrame\n",
        "columns = [\"age\", \"workclass\", \"fnlwgt\", \"education\", \"education_num\", \"marital_status\",\n",
        "           \"occupation\", \"relationship\", \"race\", \"sex\", \"capital_gain\", \"capital_loss\",\n",
        "           \"hours_per_week\", \"native_country\", \"income\"]\n",
        "train_data_df = train_data_load.toDF(*columns)\n",
        "test_data_df = test_data_load.toDF(*columns)\n",
        "\n",
        "# Remove leading and trailing whitespaces from the categorical columns\n",
        "categorical_columns = [\"workclass\", \"education\", \"marital_status\", \"occupation\",\n",
        "                       \"relationship\", \"race\", \"sex\", \"native_country\", \"income\"]\n",
        "for column in categorical_columns:\n",
        "    train_data = train_data_df.withColumn(column, trim(col(column)))\n",
        "    test_data = test_data_df.withColumn(column, trim(col(column)))"
      ],
      "metadata": {
        "id": "TqkI_J8Mu1sN"
      },
      "execution_count": null,
      "outputs": []
    },
    {
      "cell_type": "code",
      "source": [
        "    numerical_columns = [\"age\", \"fnlwgt\", \"education_num\", \"capital_gain\", \"capital_loss\", \"hours_per_week\"]\n",
        "    for column in numerical_columns:\n",
        "      train_data = train_data.withColumn(column, train_data[column].cast(\"integer\"))\n",
        "      test_data = test_data.withColumn(column, test_data[column].cast(\"integer\"))\n",
        "train_data_df.show(5)\n",
        "test_data_df.show(5)"
      ],
      "metadata": {
        "colab": {
          "base_uri": "https://localhost:8080/"
        },
        "id": "8LSrfjLC1qqy",
        "outputId": "75d20a62-90c4-4060-9d10-1e8aa8f4e19f"
      },
      "execution_count": null,
      "outputs": [
        {
          "output_type": "stream",
          "name": "stdout",
          "text": [
            "+---+-----------------+-------+----------+-------------+-------------------+------------------+--------------+------+-------+------------+------------+--------------+--------------+------+\n",
            "|age|        workclass| fnlwgt| education|education_num|     marital_status|        occupation|  relationship|  race|    sex|capital_gain|capital_loss|hours_per_week|native_country|income|\n",
            "+---+-----------------+-------+----------+-------------+-------------------+------------------+--------------+------+-------+------------+------------+--------------+--------------+------+\n",
            "| 39|        State-gov|  77516| Bachelors|           13|      Never-married|      Adm-clerical| Not-in-family| White|   Male|        2174|           0|            40| United-States| <=50K|\n",
            "| 50| Self-emp-not-inc|  83311| Bachelors|           13| Married-civ-spouse|   Exec-managerial|       Husband| White|   Male|           0|           0|            13| United-States| <=50K|\n",
            "| 38|          Private| 215646|   HS-grad|            9|           Divorced| Handlers-cleaners| Not-in-family| White|   Male|           0|           0|            40| United-States| <=50K|\n",
            "| 53|          Private| 234721|      11th|            7| Married-civ-spouse| Handlers-cleaners|       Husband| Black|   Male|           0|           0|            40| United-States| <=50K|\n",
            "| 28|          Private| 338409| Bachelors|           13| Married-civ-spouse|    Prof-specialty|          Wife| Black| Female|           0|           0|            40|          Cuba| <=50K|\n",
            "+---+-----------------+-------+----------+-------------+-------------------+------------------+--------------+------+-------+------------+------------+--------------+--------------+------+\n",
            "only showing top 5 rows\n",
            "\n",
            "+---+----------+-------+-------------+-------------+-------------------+------------------+------------+------+-------+------------+------------+--------------+--------------+-------+\n",
            "|age| workclass| fnlwgt|    education|education_num|     marital_status|        occupation|relationship|  race|    sex|capital_gain|capital_loss|hours_per_week|native_country| income|\n",
            "+---+----------+-------+-------------+-------------+-------------------+------------------+------------+------+-------+------------+------------+--------------+--------------+-------+\n",
            "| 25|   Private| 226802|         11th|            7|      Never-married| Machine-op-inspct|   Own-child| Black|   Male|           0|           0|            40| United-States| <=50K.|\n",
            "| 38|   Private|  89814|      HS-grad|            9| Married-civ-spouse|   Farming-fishing|     Husband| White|   Male|           0|           0|            50| United-States| <=50K.|\n",
            "| 28| Local-gov| 336951|   Assoc-acdm|           12| Married-civ-spouse|   Protective-serv|     Husband| White|   Male|           0|           0|            40| United-States|  >50K.|\n",
            "| 44|   Private| 160323| Some-college|           10| Married-civ-spouse| Machine-op-inspct|     Husband| Black|   Male|        7688|           0|            40| United-States|  >50K.|\n",
            "| 18|         ?| 103497| Some-college|           10|      Never-married|                 ?|   Own-child| White| Female|           0|           0|            30| United-States| <=50K.|\n",
            "+---+----------+-------+-------------+-------------+-------------------+------------------+------------+------+-------+------------+------------+--------------+--------------+-------+\n",
            "only showing top 5 rows\n",
            "\n"
          ]
        }
      ]
    },
    {
      "cell_type": "code",
      "source": [
        "# Add a label column to the data using StringIndexer\n",
        "indexer = StringIndexer(inputCol=\"income\", outputCol=\"label\")\n",
        "train_data = indexer.fit(train_data).transform(train_data)\n",
        "test_data = indexer.fit(test_data).transform(test_data)\n",
        "\n",
        "# Vectorize the features\n",
        "categorical_features = [\"workclass\", \"education\", \"marital_status\", \"occupation\",\n",
        "                        \"relationship\", \"race\", \"sex\", \"native_country\"]\n",
        "numeric_features = [\"age\", \"fnlwgt\", \"education_num\", \"capital_gain\", \"capital_loss\", \"hours_per_week\"]\n",
        "assembler_inputs = [c + \"_encoded\" for c in categorical_features] + numeric_features\n",
        "assembler = VectorAssembler(inputCols=assembler_inputs, outputCol=\"features\")\n",
        "\n",
        "# Convert categorical columns to indices and one-hot encode them\n",
        "indexers = [StringIndexer(inputCol=c, outputCol=c + \"_index\") for c in categorical_features]\n",
        "encoders = [OneHotEncoder(inputCol=c + \"_index\", outputCol=c + \"_encoded\") for c in categorical_features]\n",
        "\n",
        "# Build the Random Forest model\n",
        "rf = RandomForestClassifier(featuresCol=\"features\", labelCol=\"label\")\n",
        "\n",
        "# Chain indexers, encoders, assembler and the model in a Pipeline\n",
        "pipeline = Pipeline(stages=indexers + encoders + [assembler, rf])\n",
        "\n",
        "# Fit the pipeline to the training data\n",
        "model = pipeline.fit(train_data)\n",
        "\n",
        "# Make predictions on the test data\n",
        "predictions = model.transform(test_data)\n",
        "\n",
        "# Evaluate the model\n",
        "evaluator = BinaryClassificationEvaluator(rawPredictionCol=\"rawPrediction\", labelCol=\"label\")\n",
        "accuracy = evaluator.evaluate(predictions)\n",
        "\n",
        "print(\"Random_Forest_Classifier Model accuracy: \", accuracy)\n"
      ],
      "metadata": {
        "colab": {
          "base_uri": "https://localhost:8080/"
        },
        "id": "hvPfydF1aLOR",
        "outputId": "d70a6399-98dc-4ca2-8a14-5c042cab6aec"
      },
      "execution_count": null,
      "outputs": [
        {
          "output_type": "stream",
          "name": "stdout",
          "text": [
            "Random_Forest_Classifier Model accuracy:  0.8865680843558645\n"
          ]
        }
      ]
    }
  ]
}